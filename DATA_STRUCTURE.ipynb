{
  "nbformat": 4,
  "nbformat_minor": 0,
  "metadata": {
    "colab": {
      "provenance": []
    },
    "kernelspec": {
      "name": "python3",
      "display_name": "Python 3"
    },
    "language_info": {
      "name": "python"
    }
  },
  "cells": [
    {
      "cell_type": "markdown",
      "source": [
        "# THEROTICAL QUESTIONS\n",
        "\n"
      ],
      "metadata": {
        "id": "P9mw2XUPCi75"
      }
    },
    {
      "cell_type": "markdown",
      "source": [
        "1.**What are data structures, and why are they important?**\n",
        "\n",
        "- Data structure is a way of storing and organising data so that it can be accessed and maipulated effeciently.\n",
        "for example:-\n",
        "string,list,set,tuple,dictionary,array\n",
        " Data structure are important because they help computers to process large amount of data effeciently and make code easier to understand."
      ],
      "metadata": {
        "id": "0Iav-zYiFEJ7"
      }
    },
    {
      "cell_type": "markdown",
      "source": [
        "2.  **Explain the difference between mutable and immutable data types with examples.**\n",
        "- Mutable data types can be changed after creation, whereas immutable data types can't be changed after creation. i.e., you can add, remove, or modify the contents of a mutable data type but can't do the same with an immutable data type.\n",
        "for example:-\n"
      ],
      "metadata": {
        "id": "KEpMEh9vG2vj"
      }
    },
    {
      "cell_type": "code",
      "source": [
        "a = [1, 2, \"orange\"]\n",
        "type (a)"
      ],
      "metadata": {
        "colab": {
          "base_uri": "https://localhost:8080/"
        },
        "id": "l5aAlCCKJpzI",
        "outputId": "0927539d-6a03-44fa-bd6a-c05f9f79bc10"
      },
      "execution_count": null,
      "outputs": [
        {
          "output_type": "execute_result",
          "data": {
            "text/plain": [
              "list"
            ]
          },
          "metadata": {},
          "execution_count": 10
        }
      ]
    },
    {
      "cell_type": "code",
      "source": [
        "a. append (\"asthha\")"
      ],
      "metadata": {
        "id": "tIagVt4HJDTI"
      },
      "execution_count": null,
      "outputs": []
    },
    {
      "cell_type": "code",
      "source": [
        "a # the result are showing asthha is added"
      ],
      "metadata": {
        "colab": {
          "base_uri": "https://localhost:8080/"
        },
        "id": "F4MDc5bLKAA8",
        "outputId": "5c2b1f38-2b8b-492c-b72f-d396bbe8e1cc"
      },
      "execution_count": null,
      "outputs": [
        {
          "output_type": "execute_result",
          "data": {
            "text/plain": [
              "[1, 2, 'orange', 'asthha']"
            ]
          },
          "metadata": {},
          "execution_count": 12
        }
      ]
    },
    {
      "cell_type": "code",
      "source": [
        "a = (1,2, \"orange\")\n",
        "type(a) # tuple cant be changed or modifeid beacause its a fixed value if we run a programme it will through and error"
      ],
      "metadata": {
        "colab": {
          "base_uri": "https://localhost:8080/"
        },
        "id": "_Nvbh79PKCOc",
        "outputId": "3d426d66-25e6-4f8e-ecb3-b9fd68534124"
      },
      "execution_count": null,
      "outputs": [
        {
          "output_type": "execute_result",
          "data": {
            "text/plain": [
              "tuple"
            ]
          },
          "metadata": {},
          "execution_count": 13
        }
      ]
    },
    {
      "cell_type": "markdown",
      "source": [
        "3. **What are the main differences between lists and tuples in Python?**\n",
        "- The main difference between list and tuples is\n",
        "**list**= is mutable that is it can be modified,add,remove the content\n",
        "**tuples**= tuple is immutable because it has fixed contain or value\n",
        "\n"
      ],
      "metadata": {
        "id": "elLPHV5MLMmF"
      }
    },
    {
      "cell_type": "markdown",
      "source": [
        "4.**Describe how dictionaries store data**?\n",
        "- In Python, dictionaries are stored in memory as a hash table, which is an ordered array of ranges and their corresponding values. The algorithm used to store and access keys in a hash table is designed to be flexible and fast.\n",
        "which stores the data in the form of key value pair.\n"
      ],
      "metadata": {
        "id": "TbinKFtoL-7T"
      }
    },
    {
      "cell_type": "code",
      "source": [
        "my_dict = {}\n",
        "type(my_dict)"
      ],
      "metadata": {
        "colab": {
          "base_uri": "https://localhost:8080/"
        },
        "id": "UpVxO5rhMkQ6",
        "outputId": "1c762e4b-8e10-4f20-9d43-d66232ca5f28"
      },
      "execution_count": null,
      "outputs": [
        {
          "output_type": "execute_result",
          "data": {
            "text/plain": [
              "dict"
            ]
          },
          "metadata": {},
          "execution_count": 14
        }
      ]
    },
    {
      "cell_type": "code",
      "source": [
        "my_dict = {\"dad\": 1234, \"mom\": 5678, \"bro\": 9012}\n",
        "my_dict"
      ],
      "metadata": {
        "colab": {
          "base_uri": "https://localhost:8080/"
        },
        "id": "pkbVpwQ7K6kg",
        "outputId": "256b5544-82c4-424a-9e41-aa8b1c3b9c07"
      },
      "execution_count": null,
      "outputs": [
        {
          "output_type": "execute_result",
          "data": {
            "text/plain": [
              "{'dad': 1234, 'mom': 5678, 'bro': 9012}"
            ]
          },
          "metadata": {},
          "execution_count": 16
        }
      ]
    },
    {
      "cell_type": "markdown",
      "source": [
        "5**.Why might you use a set instead of a list in Python?**\n",
        "- Sets are used to store multiple items in a single variable. Set is one of 4 built-in data types in Python used to store collections of data, the other 3 are List with different qualities and usage.\n",
        "list is to perform common math operations like unions and intersections."
      ],
      "metadata": {
        "id": "RXd1s6BfN4xv"
      }
    },
    {
      "cell_type": "markdown",
      "source": [
        "6**.What is a string in Python, and how is it different from a list?**\n",
        "- A string is a sequence of characters between single or double quotes. A list is a sequence of items, where each item could be anything an integer, a float, a string, etc\n",
        "where as,\n",
        "A list a sequence of values which can be characters, integers or even another."
      ],
      "metadata": {
        "id": "hycF6q2oPkK5"
      }
    },
    {
      "cell_type": "markdown",
      "source": [
        "7.**How do tuples ensure data integrity in Python?**\n",
        "- Tuples are immutable to ensure that their contents remain constant throughout their lifecycle, guaranteeing data integrity and reliability. This immutability allows tuples to be used as keys in dictionaries and elements in sets.\n",
        "the process of ensuring that data is accurate, complete, consistent, and valid throughout its lifecycle is integrity\n",
        "thats why tuples have ensured the data integrity in python.\n"
      ],
      "metadata": {
        "id": "wizbCVevQBIy"
      }
    },
    {
      "cell_type": "markdown",
      "source": [
        "8.**What is a hash table, and how does it relate to dictionaries in Python?**\n",
        "- A hash table is a data structure that stores key-value pairs in an array format, with each value having a unique index value. A hash function is used to compute the index value for each key.\n",
        "A data structure that stores key-value pairs and is used to implement dictionaries.\n"
      ],
      "metadata": {
        "id": "lXkgiSORQ7HW"
      }
    },
    {
      "cell_type": "markdown",
      "source": [
        "9.**Can lists contain different data types in Python**\n",
        "- Yes,a list can also contain a mix of Python types including strings, floats, and booleans.you  can also mix objects of different types within the same list, although list elements often share the same type.\n",
        "\n"
      ],
      "metadata": {
        "id": "oYZUXM8ST-im"
      }
    },
    {
      "cell_type": "code",
      "source": [
        "a = [1,3, \"orange\", 3.3] # list can contain(int, str, float, complex,)\n",
        "type(a)"
      ],
      "metadata": {
        "colab": {
          "base_uri": "https://localhost:8080/"
        },
        "id": "lzRa4kkKUWKj",
        "outputId": "681d9ea7-c976-4611-aaab-9ea0f29af37d"
      },
      "execution_count": null,
      "outputs": [
        {
          "output_type": "execute_result",
          "data": {
            "text/plain": [
              "list"
            ]
          },
          "metadata": {},
          "execution_count": 17
        }
      ]
    },
    {
      "cell_type": "markdown",
      "source": [
        "10. **Explain why strings are immutable in Python?**\n",
        "- Python strings are \"immutable\" which means they cannot be changed after they are created. Since strings can't be changed, we construct *new* strings as we go to represent computed values.\n"
      ],
      "metadata": {
        "id": "l86KkptBU9mf"
      }
    },
    {
      "cell_type": "markdown",
      "source": [
        "11.**What advantages do dictionaries offer over lists for certain tasks?**\n",
        "- A list can store any data type. In contrast, keys in the dictionary can be of any immutable data type, and values can be of any data type. Lists perform faster for ordered operations like sorting, while dictionaries perform faster for lookup operations."
      ],
      "metadata": {
        "id": "kendC8AlVR7v"
      }
    },
    {
      "cell_type": "markdown",
      "source": [
        "12.**Describe a scenario where using a tuple would be preferable over a list?**\n",
        "- Tuples are faster than lists. Tuples make the code safe from any accidental modification. If a data is needed in a program which is not supposed to be changed, then it is better to put it in 'tuples' than in 'list'.\n"
      ],
      "metadata": {
        "id": "bQ3QmpPaVmnG"
      }
    },
    {
      "cell_type": "markdown",
      "source": [
        "13. **How do sets handle duplicate values in Python?**\n",
        "- Items of a set in python are immutable (unchangeable), do not duplicate values, and unordered. Thus, items in a set do not appear in a stipulated manner, i.e., they can appear in a different order every time it is used. Due to this, set items cannot be referred to by key or index.\n",
        " Python is by converting the list to a set. Since sets cannot contain duplicates, converting a list to a set automatically removes any duplicate elements."
      ],
      "metadata": {
        "id": "qTRd9cVfWYfe"
      }
    },
    {
      "cell_type": "markdown",
      "source": [
        "14**.How does the “in” keyword work differently for lists and dictionaries?**\n",
        "- **LIST**\n",
        "The in keyword is used to check if a value is present in a sequence (list, range, string etc.).\n",
        "- **DICTIONARY**\n",
        "The in operator for dictionaries ( dict ) checks for the presence of a key. Use the values() and items() methods to test for the presence of values or key-value pairs\n",
        "\n"
      ],
      "metadata": {
        "id": "DuINiv_UWt87"
      }
    },
    {
      "cell_type": "code",
      "source": [
        "l = [0, 1, 2]\n",
        "i = 0\n",
        "\n",
        "if i in l:\n",
        "    print(f'{i} is a member of {l}.')\n",
        "else:\n",
        "    print(f'{i} is not a member of {l}.')\n",
        "# 0 is a member of [0, 1, 2]."
      ],
      "metadata": {
        "colab": {
          "base_uri": "https://localhost:8080/"
        },
        "id": "RWPK1qn8XxAb",
        "outputId": "9c1a5c74-f972-47c6-eba4-7d4291dc6780"
      },
      "execution_count": null,
      "outputs": [
        {
          "output_type": "stream",
          "name": "stdout",
          "text": [
            "0 is a member of [0, 1, 2].\n"
          ]
        }
      ]
    },
    {
      "cell_type": "markdown",
      "source": [
        "15.**Can you modify the elements of a tuple? Explain why or why not?**\n",
        "- No, you cannot modify the elements of a tuple in Python because tuples are \"immutable,\" meaning once created, their elements cannot be changed, added, or removed; if you try to alter a tuple element, you will receive a TypeError error."
      ],
      "metadata": {
        "id": "zlZlXODbYXOU"
      }
    },
    {
      "cell_type": "markdown",
      "source": [
        "16.**What is a nested dictionary, and give an example of its use case?**\n",
        "- A nested dictionary is a dictionary that contains other dictionaries, and is useful for representing data with multiple levels of organization. Here are some examples of use cases for nested dictionaries\n",
        "**Employee records**: Organize employees by department, with each employee's details in a nested dictionary.\n",
        "**Inventory systems**: Track product categories, subcategories, and individual product details.\n"
      ],
      "metadata": {
        "id": "xWR7T4JUZYY5"
      }
    },
    {
      "cell_type": "code",
      "source": [
        "people = {1: {'name': 'John', 'age': '27', 'sex': 'Male'},\n",
        "          2: {'name': 'Marie', 'age': '22', 'sex': 'Female'}}\n",
        "\n",
        "print(people)"
      ],
      "metadata": {
        "colab": {
          "base_uri": "https://localhost:8080/"
        },
        "id": "ck3kp1XjaJOQ",
        "outputId": "8d0641bf-474d-4c94-874d-d6de90ef77a2"
      },
      "execution_count": null,
      "outputs": [
        {
          "output_type": "stream",
          "name": "stdout",
          "text": [
            "{1: {'name': 'John', 'age': '27', 'sex': 'Male'}, 2: {'name': 'Marie', 'age': '22', 'sex': 'Female'}}\n"
          ]
        }
      ]
    },
    {
      "cell_type": "markdown",
      "source": [
        "17.**Describe the time complexity of accessing elements in a dictionary?**\n",
        "- The time complexity of inserting a new element into a Python dictionary is typically O(1). This means that the time taken to insert an element into a dictionary is constant, regardless of the size of the dictionary. This is because Python dictionaries use a hash table data structure, which allows for fast insertion, retrieval, and deletion of key-value pairs."
      ],
      "metadata": {
        "id": "GF1LdgXVaNu4"
      }
    },
    {
      "cell_type": "markdown",
      "source": [
        "18. **In what situations are lists preferred over dictionaries?**\n",
        "- Key Differences Between List and Dictionary in Python. A list is an ordered collection of items, whereas a dictionary is an unordered data collection in a key: value pair. Elements from the list can be accessed using the index, while the elements of the dictionary can be accessed using keys."
      ],
      "metadata": {
        "id": "Mc61yfr4aq_D"
      }
    },
    {
      "cell_type": "markdown",
      "source": [
        "19.**Why are dictionaries considered unordered, and how does that affect data retrieval?**\n",
        "- Dictionaries are unordered. When we say that dictionaries are ordered, it means that the items have a defined order, and that order will not change. Unordered means that the items do not have a defined order, you cannot refer to an item by using an index.\n",
        "because Python dictionaries are not intended to be in order, as simple as that."
      ],
      "metadata": {
        "id": "4_8S6Y7UbEnd"
      }
    },
    {
      "cell_type": "markdown",
      "source": [
        "20. **Explain the difference between a list and a dictionary in terms of data retrieval?**\n",
        "- Locating, extracting, and presenting information from existing databases, data storage systems, or other data repositories. It implies using queries, filters, or search criteria to find and extract specific data from the storage systems.\n",
        "**list**\n",
        "use the len() function and square brackets [ ] to access data, with the first element at index 0. (See the official python.org list docs.) Assignment with an = on lists does not make a copy. Instead, assignment makes the two variables point to the one list in memory\n",
        "**dictionary**\n",
        "Each element in a dictionary is associated with a key that we can use to retrieve that element. Python dictionary get() is a built-in function that allows you to retrieve the value of an item associated with the specified key."
      ],
      "metadata": {
        "id": "IB_abH1qbeR1"
      }
    },
    {
      "cell_type": "markdown",
      "source": [
        "#PRACTICAL QUESTIONS"
      ],
      "metadata": {
        "id": "m2vJovcHdFvY"
      }
    },
    {
      "cell_type": "markdown",
      "source": [
        "1. Write a code to create a string with your name and print it."
      ],
      "metadata": {
        "id": "JAqyflz0dOui"
      }
    },
    {
      "cell_type": "code",
      "source": [
        "a = (\"Asthha\")\n",
        "a"
      ],
      "metadata": {
        "colab": {
          "base_uri": "https://localhost:8080/",
          "height": 36
        },
        "id": "pv6MqqBvdS8s",
        "outputId": "2d521503-8c4f-4f26-a92d-1f8f400f32b6"
      },
      "execution_count": null,
      "outputs": [
        {
          "output_type": "execute_result",
          "data": {
            "text/plain": [
              "'Asthha'"
            ],
            "application/vnd.google.colaboratory.intrinsic+json": {
              "type": "string"
            }
          },
          "metadata": {},
          "execution_count": 21
        }
      ]
    },
    {
      "cell_type": "code",
      "source": [
        "type(a)"
      ],
      "metadata": {
        "colab": {
          "base_uri": "https://localhost:8080/"
        },
        "id": "A76zgfKUdZFh",
        "outputId": "eb5cf831-2a6a-437a-e597-46fe0070d618"
      },
      "execution_count": null,
      "outputs": [
        {
          "output_type": "execute_result",
          "data": {
            "text/plain": [
              "str"
            ]
          },
          "metadata": {},
          "execution_count": 22
        }
      ]
    },
    {
      "cell_type": "code",
      "source": [
        "print(\"asthha\")"
      ],
      "metadata": {
        "colab": {
          "base_uri": "https://localhost:8080/"
        },
        "id": "VyA_JnSgdbFx",
        "outputId": "5b132014-2438-437f-8b0b-f3bb5c115701"
      },
      "execution_count": null,
      "outputs": [
        {
          "output_type": "stream",
          "name": "stdout",
          "text": [
            "asthha\n"
          ]
        }
      ]
    },
    {
      "cell_type": "markdown",
      "source": [
        "2. Write a code to find the length of the string \"Hello World\""
      ],
      "metadata": {
        "id": "F8pAHuNZdh9-"
      }
    },
    {
      "cell_type": "code",
      "source": [
        "len(\"hello world\")"
      ],
      "metadata": {
        "colab": {
          "base_uri": "https://localhost:8080/"
        },
        "id": "ZYzkpupFdoZk",
        "outputId": "a874bdf1-cfe9-44b5-c182-d4d2fcc8e6c5"
      },
      "execution_count": null,
      "outputs": [
        {
          "output_type": "execute_result",
          "data": {
            "text/plain": [
              "11"
            ]
          },
          "metadata": {},
          "execution_count": 24
        }
      ]
    },
    {
      "cell_type": "markdown",
      "source": [
        "3. Write a code to slice the first 3 characters from the string \"Python Programming\""
      ],
      "metadata": {
        "id": "YTBE0uR5dyPI"
      }
    },
    {
      "cell_type": "code",
      "source": [
        "string1 = \"Python programming\"\n",
        "string1[0:3]"
      ],
      "metadata": {
        "colab": {
          "base_uri": "https://localhost:8080/",
          "height": 36
        },
        "id": "6tA8RIFFd7GX",
        "outputId": "0457c610-e4b5-4a6b-efea-3bb33dfe80a2"
      },
      "execution_count": null,
      "outputs": [
        {
          "output_type": "execute_result",
          "data": {
            "text/plain": [
              "'Pyt'"
            ],
            "application/vnd.google.colaboratory.intrinsic+json": {
              "type": "string"
            }
          },
          "metadata": {},
          "execution_count": 26
        }
      ]
    },
    {
      "cell_type": "markdown",
      "source": [
        "4.Write a code to convert the string \"hello\" to uppercase\n"
      ],
      "metadata": {
        "id": "gXvQh_4zfvrO"
      }
    },
    {
      "cell_type": "code",
      "source": [
        "text = \"hello\"\n",
        "text.upper()"
      ],
      "metadata": {
        "colab": {
          "base_uri": "https://localhost:8080/",
          "height": 36
        },
        "id": "RYE_uYE1gmYn",
        "outputId": "8ff3f2b9-1499-49df-de16-eefeba438f6e"
      },
      "execution_count": null,
      "outputs": [
        {
          "output_type": "execute_result",
          "data": {
            "text/plain": [
              "'HELLO'"
            ],
            "application/vnd.google.colaboratory.intrinsic+json": {
              "type": "string"
            }
          },
          "metadata": {},
          "execution_count": 30
        }
      ]
    },
    {
      "cell_type": "markdown",
      "source": [
        "5.Write a code to replace the word \"apple\" with \"orange\" in the string \"I like apple\""
      ],
      "metadata": {
        "id": "OymmjMjxg3EX"
      }
    },
    {
      "cell_type": "code",
      "source": [
        "s = \"I like apple\"\n",
        "s.replace(\"apple\", \"orange\")"
      ],
      "metadata": {
        "colab": {
          "base_uri": "https://localhost:8080/",
          "height": 36
        },
        "id": "7jCPqP8Xhzxy",
        "outputId": "03219cd0-e302-4441-ab47-55cb873881d4"
      },
      "execution_count": null,
      "outputs": [
        {
          "output_type": "execute_result",
          "data": {
            "text/plain": [
              "'I like orange'"
            ],
            "application/vnd.google.colaboratory.intrinsic+json": {
              "type": "string"
            }
          },
          "metadata": {},
          "execution_count": 34
        }
      ]
    },
    {
      "cell_type": "markdown",
      "source": [
        "6.Write a code to create a list with numbers 1 to 5 and print it"
      ],
      "metadata": {
        "id": "iSIE3kEQigZJ"
      }
    },
    {
      "cell_type": "code",
      "source": [
        "numbers = [1, 2, 3, 4, 5] #create a list with the number 1 to 5\n",
        "print(numbers)\n"
      ],
      "metadata": {
        "colab": {
          "base_uri": "https://localhost:8080/"
        },
        "id": "XnXH7qkDkyt7",
        "outputId": "6b92a354-87eb-492f-e5cd-118efd8be6ba"
      },
      "execution_count": null,
      "outputs": [
        {
          "output_type": "stream",
          "name": "stdout",
          "text": [
            "[1, 2, 3, 4, 5]\n"
          ]
        }
      ]
    },
    {
      "cell_type": "markdown",
      "source": [
        "6. Write a code to append the number 10 to the list [1, 2, 3, 4]"
      ],
      "metadata": {
        "id": "0jxUwIRWlRwB"
      }
    },
    {
      "cell_type": "code",
      "source": [
        "number = [1, 2, 3, 4]\n",
        "number.append(10)\n",
        "print(number)"
      ],
      "metadata": {
        "colab": {
          "base_uri": "https://localhost:8080/"
        },
        "id": "elPDuta-lYwh",
        "outputId": "97ac7c95-0f84-40dd-b1ca-d95729458b3d"
      },
      "execution_count": null,
      "outputs": [
        {
          "output_type": "stream",
          "name": "stdout",
          "text": [
            "[1, 2, 3, 4, 10]\n"
          ]
        }
      ]
    },
    {
      "cell_type": "markdown",
      "source": [
        "7.Write a code to remove the number 3 from the list [1, 2, 3, 4, 5]\n"
      ],
      "metadata": {
        "id": "1Sdbgt0wl8IN"
      }
    },
    {
      "cell_type": "code",
      "source": [
        "number = [1, 2, 3, 4, 5]\n",
        "number.remove(3)\n",
        "print(number)"
      ],
      "metadata": {
        "colab": {
          "base_uri": "https://localhost:8080/"
        },
        "id": "7SldbivqmDfh",
        "outputId": "186a2263-a29b-4d29-fcd6-1ab2005b4e0a"
      },
      "execution_count": null,
      "outputs": [
        {
          "output_type": "stream",
          "name": "stdout",
          "text": [
            "[1, 2, 4, 5]\n"
          ]
        }
      ]
    },
    {
      "cell_type": "markdown",
      "source": [
        "8.Write a code to access the second element in the list ['a', 'b', 'c', 'd']"
      ],
      "metadata": {
        "id": "Bw20gV5zmPeK"
      }
    },
    {
      "cell_type": "code",
      "source": [
        "number = ['a', 'b', 'c', 'd']\n",
        "second_element = number[1]\n",
        "print(second_element)"
      ],
      "metadata": {
        "colab": {
          "base_uri": "https://localhost:8080/"
        },
        "id": "4OZ5Yq20mw48",
        "outputId": "e1321f35-4e38-47d8-b19a-67af4d5722c7"
      },
      "execution_count": null,
      "outputs": [
        {
          "output_type": "stream",
          "name": "stdout",
          "text": [
            "b\n"
          ]
        }
      ]
    },
    {
      "cell_type": "markdown",
      "source": [
        "10. Write a code to reverse the list [10, 20, 30, 40, 50]\n"
      ],
      "metadata": {
        "id": "YebNXfLvnJW9"
      }
    },
    {
      "cell_type": "code",
      "source": [
        "number = [10, 20, 30, 40, 50]\n",
        "reversed_list = number[::-1]\n",
        "print(reversed_list)"
      ],
      "metadata": {
        "colab": {
          "base_uri": "https://localhost:8080/"
        },
        "id": "Fw3ejrGCnNlN",
        "outputId": "95e3cbb1-5a53-44e3-8096-613f004bd13c"
      },
      "execution_count": null,
      "outputs": [
        {
          "output_type": "stream",
          "name": "stdout",
          "text": [
            "[50, 40, 30, 20, 10]\n"
          ]
        }
      ]
    },
    {
      "cell_type": "markdown",
      "source": [
        "11. Write a code to create a tuple with the elements 10, 20, 30 and print it."
      ],
      "metadata": {
        "id": "merhSG0vnrtS"
      }
    },
    {
      "cell_type": "code",
      "source": [
        "a = (10, 20, 30)\n",
        "print(a)"
      ],
      "metadata": {
        "colab": {
          "base_uri": "https://localhost:8080/"
        },
        "id": "paplA0T3nzTu",
        "outputId": "2331fd9f-a208-4f41-c90a-7d88f6a8978b"
      },
      "execution_count": null,
      "outputs": [
        {
          "output_type": "stream",
          "name": "stdout",
          "text": [
            "(10, 20, 30)\n"
          ]
        }
      ]
    },
    {
      "cell_type": "code",
      "source": [
        "type(a)"
      ],
      "metadata": {
        "colab": {
          "base_uri": "https://localhost:8080/"
        },
        "id": "dzJ6olQfn9Kx",
        "outputId": "4aac2824-a38c-4434-c0c0-24cc0a448c51"
      },
      "execution_count": null,
      "outputs": [
        {
          "output_type": "execute_result",
          "data": {
            "text/plain": [
              "tuple"
            ]
          },
          "metadata": {},
          "execution_count": 42
        }
      ]
    },
    {
      "cell_type": "markdown",
      "source": [
        "12. Write a code to access the first element of the tuple ('apple', 'banana', 'cherry')."
      ],
      "metadata": {
        "id": "-yyXTO2xoHAw"
      }
    },
    {
      "cell_type": "code",
      "source": [
        "a =  ('apple', 'banana', 'cherry')\n",
        "first_element = a[0]\n",
        "print(first_element)"
      ],
      "metadata": {
        "colab": {
          "base_uri": "https://localhost:8080/"
        },
        "id": "BLree92NoP0b",
        "outputId": "0f879545-fe16-47ec-bf9c-535d6c35fc5f"
      },
      "execution_count": null,
      "outputs": [
        {
          "output_type": "stream",
          "name": "stdout",
          "text": [
            "apple\n"
          ]
        }
      ]
    },
    {
      "cell_type": "markdown",
      "source": [
        "13. Write a code to count how many times the number 2 appears in the tuple (1, 2, 3, 2, 4, 2)."
      ],
      "metadata": {
        "id": "P9J5Ct3Zo8Ey"
      }
    },
    {
      "cell_type": "code",
      "source": [
        "numeber =  (1, 2, 3, 2, 4, 2)\n",
        "count = number.count(2)\n",
        "print(count)"
      ],
      "metadata": {
        "colab": {
          "base_uri": "https://localhost:8080/"
        },
        "id": "aYssU15Ro_Su",
        "outputId": "1b0b9771-f350-4552-dfc6-49ff4e3f8ae2"
      },
      "execution_count": null,
      "outputs": [
        {
          "output_type": "stream",
          "name": "stdout",
          "text": [
            "0\n"
          ]
        }
      ]
    },
    {
      "cell_type": "markdown",
      "source": [
        "14.. Write a code to find the index of the element \"cat\" in the tuple ('dog', 'cat', 'rabbit')."
      ],
      "metadata": {
        "id": "e3mJv2qsp7hR"
      }
    },
    {
      "cell_type": "code",
      "source": [
        "element = ('dog', 'cat', 'rabbit')\n",
        "index = element.index(\"cat\")\n",
        "print(index)\n"
      ],
      "metadata": {
        "colab": {
          "base_uri": "https://localhost:8080/"
        },
        "id": "qXtPwdbWqB9F",
        "outputId": "81e3119c-9e60-49cc-bdf7-b53e7c32aa12"
      },
      "execution_count": null,
      "outputs": [
        {
          "output_type": "stream",
          "name": "stdout",
          "text": [
            "1\n"
          ]
        }
      ]
    },
    {
      "cell_type": "markdown",
      "source": [
        "15.. Write a code to check if the element \"banana\" is in the tuple ('apple', 'orange', 'banana')\n"
      ],
      "metadata": {
        "id": "UEMOZIhWqrjG"
      }
    },
    {
      "cell_type": "code",
      "source": [
        "element = ('apple', 'orange', 'banana')\n",
        "if \"banana\" in element:\n",
        "    print(\"banana is in the tuple\")\n",
        "else:\n",
        "    print(\"banana is not in the tuple\")\n"
      ],
      "metadata": {
        "colab": {
          "base_uri": "https://localhost:8080/"
        },
        "id": "y7KiCEdpqyY9",
        "outputId": "333fb27f-cc0b-4a4c-b603-8badf03218fa"
      },
      "execution_count": null,
      "outputs": [
        {
          "output_type": "stream",
          "name": "stdout",
          "text": [
            "banana is in the tuple\n"
          ]
        }
      ]
    },
    {
      "cell_type": "markdown",
      "source": [
        "16.. Write a code to create a set with the elements 1, 2, 3, 4, 5 and print it."
      ],
      "metadata": {
        "id": "1mwyOtP_sZij"
      }
    },
    {
      "cell_type": "code",
      "source": [
        "my_set = {1, 2, 3, 4, 5}\n",
        "print(my_set)\n"
      ],
      "metadata": {
        "colab": {
          "base_uri": "https://localhost:8080/"
        },
        "id": "w6xBygGoshcx",
        "outputId": "ac8fc1a7-a5bc-4ff7-cee1-aef10dd66b59"
      },
      "execution_count": null,
      "outputs": [
        {
          "output_type": "stream",
          "name": "stdout",
          "text": [
            "{1, 2, 3, 4, 5}\n"
          ]
        }
      ]
    },
    {
      "cell_type": "markdown",
      "source": [
        "17.Write a code to add the element 6 to the set {1, 2, 3, 4}:\n"
      ],
      "metadata": {
        "id": "BWvYPdrYtOnN"
      }
    },
    {
      "cell_type": "code",
      "source": [
        "my_set = {1, 2, 3, 4}\n",
        "my_set.add(6)\n",
        "print(my_set)"
      ],
      "metadata": {
        "colab": {
          "base_uri": "https://localhost:8080/"
        },
        "id": "pdYakJArta1a",
        "outputId": "9aa51f99-7662-47ef-d683-908ba9128fb9"
      },
      "execution_count": null,
      "outputs": [
        {
          "output_type": "stream",
          "name": "stdout",
          "text": [
            "{1, 2, 3, 4, 6}\n"
          ]
        }
      ]
    },
    {
      "cell_type": "code",
      "source": [],
      "metadata": {
        "id": "hhXKfOoutnyv"
      },
      "execution_count": null,
      "outputs": []
    }
  ]
}